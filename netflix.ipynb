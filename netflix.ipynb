{
 "cells": [
  {
   "cell_type": "code",
   "execution_count": 19,
   "id": "490d7a07-9d6e-4206-8e5f-e1f3948a3e55",
   "metadata": {},
   "outputs": [],
   "source": [
    "#                               Netflix data analysis and visualization\n",
    "#import libaries\n",
    "import pandas as pd\n",
    "import numpy as np\n",
    "import matplotlib.pyplot as plt\n",
    "import seaborn as sns"
   ]
  },
  {
   "cell_type": "code",
   "execution_count": 20,
   "id": "5c4bbada-77a8-44a9-a753-771fcf364d0a",
   "metadata": {},
   "outputs": [
    {
     "name": "stdout",
     "output_type": "stream",
     "text": [
      "Dataset loaded successfully.\n"
     ]
    }
   ],
   "source": [
    "# Load the dataset\n",
    "df = pd.read_csv(r\"C:\\Users\\kriti\\Downloads\\netflix1 (1).csv\")\n",
    "print(\"Dataset loaded successfully.\")"
   ]
  },
  {
   "cell_type": "code",
   "execution_count": 21,
   "id": "c8a0723d-7a84-41fd-a7ba-e01cd49a7a4a",
   "metadata": {},
   "outputs": [
    {
     "name": "stdout",
     "output_type": "stream",
     "text": [
      "Original Data Info:\n",
      "<class 'pandas.core.frame.DataFrame'>\n",
      "RangeIndex: 8790 entries, 0 to 8789\n",
      "Data columns (total 10 columns):\n",
      " #   Column        Non-Null Count  Dtype \n",
      "---  ------        --------------  ----- \n",
      " 0   show_id       8790 non-null   object\n",
      " 1   type          8790 non-null   object\n",
      " 2   title         8790 non-null   object\n",
      " 3   director      8790 non-null   object\n",
      " 4   country       8790 non-null   object\n",
      " 5   date_added    8790 non-null   object\n",
      " 6   release_year  8790 non-null   int64 \n",
      " 7   rating        8790 non-null   object\n",
      " 8   duration      8790 non-null   object\n",
      " 9   listed_in     8790 non-null   object\n",
      "dtypes: int64(1), object(9)\n",
      "memory usage: 686.8+ KB\n"
     ]
    }
   ],
   "source": [
    "print(\"Original Data Info:\")\n",
    "df.info()"
   ]
  },
  {
   "cell_type": "code",
   "execution_count": 22,
   "id": "f911e785-7a21-4672-88a5-030949e7489b",
   "metadata": {},
   "outputs": [],
   "source": [
    "# Step 2: Data Cleaning\n",
    "df.replace('Not Given', np.nan, inplace=True)\n",
    "\n",
    "# Fix FutureWarning by reassigning instead of inplace=True\n",
    "df['director'] = df['director'].fillna('No Director')\n",
    "df['country'] = df['country'].fillna('United States')\n",
    "\n",
    "df.dropna(subset=['date_added', 'rating'], inplace=True)\n",
    "df.drop_duplicates(inplace=True)\n"
   ]
  },
  {
   "cell_type": "code",
   "execution_count": 23,
   "id": "c4e7a788-f4e1-4a28-ab20-a56d6525cdb6",
   "metadata": {},
   "outputs": [
    {
     "name": "stdout",
     "output_type": "stream",
     "text": [
      "\n",
      "Cleaned Data Info:\n",
      "<class 'pandas.core.frame.DataFrame'>\n",
      "RangeIndex: 8790 entries, 0 to 8789\n",
      "Data columns (total 11 columns):\n",
      " #   Column        Non-Null Count  Dtype         \n",
      "---  ------        --------------  -----         \n",
      " 0   show_id       8790 non-null   object        \n",
      " 1   type          8790 non-null   object        \n",
      " 2   title         8790 non-null   object        \n",
      " 3   director      8790 non-null   object        \n",
      " 4   country       8790 non-null   object        \n",
      " 5   date_added    8790 non-null   datetime64[ns]\n",
      " 6   release_year  8790 non-null   int64         \n",
      " 7   rating        8790 non-null   object        \n",
      " 8   duration      8790 non-null   object        \n",
      " 9   listed_in     8790 non-null   object        \n",
      " 10  year_added    8790 non-null   int32         \n",
      "dtypes: datetime64[ns](1), int32(1), int64(1), object(8)\n",
      "memory usage: 721.2+ KB\n"
     ]
    }
   ],
   "source": [
    "# Convert 'date_added' to datetime\n",
    "df['date_added'] = pd.to_datetime(df['date_added'], errors='coerce')\n",
    "\n",
    "# Create 'year_added' if not already present\n",
    "if 'year_added' not in df.columns:\n",
    "    df['year_added'] = df['date_added'].dt.year\n",
    "\n",
    "print(\"\\nCleaned Data Info:\")\n",
    "df.info()"
   ]
  },
  {
   "cell_type": "code",
   "execution_count": 24,
   "id": "6ba9ae6f-5412-49d8-8353-f46b3273e3d6",
   "metadata": {},
   "outputs": [
    {
     "name": "stdout",
     "output_type": "stream",
     "text": [
      "['show_id', 'type', 'title', 'director', 'country', 'date_added', 'release_year', 'rating', 'duration', 'listed_in', 'year_added']\n"
     ]
    }
   ],
   "source": [
    "print(df.columns.tolist())\n"
   ]
  },
  {
   "cell_type": "code",
   "execution_count": 25,
   "id": "78e6921e-bd6e-413e-a7a8-6e2db249d887",
   "metadata": {},
   "outputs": [
    {
     "name": "stdout",
     "output_type": "stream",
     "text": [
      "\n",
      "Movie vs. TV Show Distribution:\n",
      "type\n",
      "Movie      6126\n",
      "TV Show    2664\n",
      "Name: count, dtype: int64\n"
     ]
    }
   ],
   "source": [
    "#Step 3: Exploratory Data Analysis (EDA)\n",
    "# 3.1 Count of Movies vs TV Shows\n",
    "content_type_counts = df['type'].value_counts()\n",
    "print(\"\\nMovie vs. TV Show Distribution:\")\n",
    "print(content_type_counts)"
   ]
  },
  {
   "cell_type": "code",
   "execution_count": 26,
   "id": "06e4d29f-6312-475b-a29b-35019c466210",
   "metadata": {},
   "outputs": [
    {
     "name": "stdout",
     "output_type": "stream",
     "text": [
      "\n",
      "Top 10 Content Producing Countries:\n",
      "country\n",
      "United States     3527\n",
      "India             1057\n",
      "United Kingdom     638\n",
      "Pakistan           421\n",
      "Canada             271\n",
      "Japan              259\n",
      "South Korea        214\n",
      "France             213\n",
      "Spain              182\n",
      "Mexico             138\n",
      "Name: count, dtype: int64\n"
     ]
    }
   ],
   "source": [
    "# 3.2 Top 10 countries with most content\n",
    "top_countries = df['country'].value_counts().head(10)\n",
    "print(\"\\nTop 10 Content Producing Countries:\")\n",
    "print(top_countries)"
   ]
  },
  {
   "cell_type": "code",
   "execution_count": 27,
   "id": "0a0a3707-f2f5-4ac2-ab05-9ab2d2d6b0ec",
   "metadata": {},
   "outputs": [
    {
     "name": "stdout",
     "output_type": "stream",
     "text": [
      "\n",
      "Top 10 Directors by Content Count:\n",
      "director\n",
      "No Director               2588\n",
      "Rajiv Chilaka               20\n",
      "Alastair Fothergill         18\n",
      "Raúl Campos, Jan Suter      18\n",
      "Suhas Kadav                 16\n",
      "Marcus Raboy                16\n",
      "Jay Karas                   14\n",
      "Cathy Garcia-Molina         13\n",
      "Martin Scorsese             12\n",
      "Youssef Chahine             12\n",
      "Name: count, dtype: int64\n"
     ]
    }
   ],
   "source": [
    "# 3.3 Top 10 directors\n",
    "top_directors = df['director'].value_counts().head(10)\n",
    "print(\"\\nTop 10 Directors by Content Count:\")\n",
    "print(top_directors)"
   ]
  },
  {
   "cell_type": "code",
   "execution_count": 28,
   "id": "a8e63fd4-ef4d-4979-a893-20aff9990f72",
   "metadata": {},
   "outputs": [
    {
     "name": "stdout",
     "output_type": "stream",
     "text": [
      "\n",
      "Content Ratings Distribution:\n",
      "rating\n",
      "TV-MA       3205\n",
      "TV-14       2157\n",
      "TV-PG        861\n",
      "R            799\n",
      "PG-13        490\n",
      "TV-Y7        333\n",
      "TV-Y         306\n",
      "PG           287\n",
      "TV-G         220\n",
      "NR            79\n",
      "G             41\n",
      "TV-Y7-FV       6\n",
      "NC-17          3\n",
      "UR             3\n",
      "Name: count, dtype: int64\n"
     ]
    }
   ],
   "source": [
    "# 3.4 Ratings distribution\n",
    "rating_counts = df['rating'].value_counts()\n",
    "print(\"\\nContent Ratings Distribution:\")\n",
    "print(rating_counts)"
   ]
  },
  {
   "cell_type": "code",
   "execution_count": 29,
   "id": "6f31d28e-675a-461d-abd5-db9a11bd3ffd",
   "metadata": {},
   "outputs": [
    {
     "name": "stdout",
     "output_type": "stream",
     "text": [
      "\n",
      "Content Added per Year:\n",
      "year_added\n",
      "2008       2\n",
      "2009       2\n",
      "2010       1\n",
      "2011      13\n",
      "2012       3\n",
      "2013      11\n",
      "2014      24\n",
      "2015      82\n",
      "2016     426\n",
      "2017    1185\n",
      "2018    1648\n",
      "2019    2016\n",
      "2020    1879\n",
      "2021    1498\n",
      "Name: count, dtype: int64\n"
     ]
    }
   ],
   "source": [
    "# 3.5 Content added by year\n",
    "yearly_content = df['year_added'].value_counts().sort_index()\n",
    "print(\"\\nContent Added per Year:\")\n",
    "print(yearly_content)"
   ]
  },
  {
   "cell_type": "code",
   "execution_count": 30,
   "id": "111be998-b727-498f-82ce-8b2eaaae9edd",
   "metadata": {},
   "outputs": [
    {
     "name": "stdout",
     "output_type": "stream",
     "text": [
      "\n",
      "Top 10 Genres:\n",
      "listed_in\n",
      "International Movies        2752\n",
      "Dramas                      2426\n",
      "Comedies                    1674\n",
      "International TV Shows      1349\n",
      "Documentaries                869\n",
      "Action & Adventure           859\n",
      "TV Dramas                    762\n",
      "Independent Movies           756\n",
      "Children & Family Movies     641\n",
      "Romantic Movies              616\n",
      "Name: count, dtype: int64\n"
     ]
    }
   ],
   "source": [
    "# 3.6 Top genres (from 'listed_in')\n",
    "all_genres = df['listed_in'].str.split(',').explode().str.strip()\n",
    "top_genres = all_genres.value_counts().head(10)\n",
    "print(\"\\nTop 10 Genres:\")\n",
    "print(top_genres)"
   ]
  },
  {
   "cell_type": "code",
   "execution_count": 31,
   "id": "2d5c5724-e789-453b-b57e-e6d3b54a0715",
   "metadata": {},
   "outputs": [],
   "source": [
    "#Step 4: Export Data for Power BI\n",
    "# Export cleaned dataset\n",
    "df.to_csv('cleaned_netflix_dataset.csv', index=False)"
   ]
  },
  {
   "cell_type": "code",
   "execution_count": 32,
   "id": "31eceeec-be07-4e1c-bacf-a974dd7c7bc6",
   "metadata": {},
   "outputs": [
    {
     "name": "stdout",
     "output_type": "stream",
     "text": [
      "\n",
      "✅ Cleaned dataset and summary CSVs exported successfully!\n",
      "Files created: \n",
      "- cleaned_netflix_data.csv\n",
      "- content_by_year.csv\n",
      "- content_by_country.csv\n",
      "- content_by_rating.csv\n",
      "- top_directors.csv\n",
      "- top_genres.csv\n"
     ]
    }
   ],
   "source": [
    "# Export summary tables\n",
    "df['year_added'].value_counts().sort_index().reset_index().rename(\n",
    "    columns={'index': 'year', 'year_added': 'content_count'}\n",
    ").to_csv('content_by_year.csv', index=False)\n",
    "\n",
    "df['country'].value_counts().reset_index().rename(\n",
    "    columns={'index': 'country', 'country': 'content_count'}\n",
    ").to_csv('content_by_country.csv', index=False)\n",
    "\n",
    "df['rating'].value_counts().reset_index().rename(\n",
    "    columns={'index': 'rating', 'rating': 'content_count'}\n",
    ").to_csv('content_by_rating.csv', index=False)\n",
    "\n",
    "df['director'].value_counts().reset_index().rename(\n",
    "    columns={'index': 'director', 'director': 'content_count'}\n",
    ").head(20).to_csv('top_directors.csv', index=False)\n",
    "\n",
    "all_genres.value_counts().reset_index().rename(\n",
    "    columns={'index': 'genre', 'listed_in': 'content_count'}\n",
    ").head(20).to_csv('top_genres.csv', index=False)\n",
    "\n",
    "print(\"\\n✅ Cleaned dataset and summary CSVs exported successfully!\")\n",
    "print(\"Files created: \")\n",
    "print(\"- cleaned_netflix_data.csv\")\n",
    "print(\"- content_by_year.csv\")\n",
    "print(\"- content_by_country.csv\")\n",
    "print(\"- content_by_rating.csv\")\n",
    "print(\"- top_directors.csv\")\n",
    "print(\"- top_genres.csv\")"
   ]
  },
  {
   "cell_type": "code",
   "execution_count": 33,
   "id": "a274c677-93c8-4a63-947d-e42e3d6e5b81",
   "metadata": {},
   "outputs": [
    {
     "name": "stdout",
     "output_type": "stream",
     "text": [
      "File saved at: C:\\Users\\kriti\\cleaned_netflix_data.csv\n"
     ]
    }
   ],
   "source": [
    "import os\n",
    "print(\"File saved at:\", os.path.abspath(\"cleaned_netflix_data.csv\"))"
   ]
  },
  {
   "cell_type": "code",
   "execution_count": null,
   "id": "29c5b5f1-996b-4ff8-a5c6-a54cf0848b74",
   "metadata": {},
   "outputs": [],
   "source": []
  }
 ],
 "metadata": {
  "kernelspec": {
   "display_name": "Python [conda env:base] *",
   "language": "python",
   "name": "conda-base-py"
  },
  "language_info": {
   "codemirror_mode": {
    "name": "ipython",
    "version": 3
   },
   "file_extension": ".py",
   "mimetype": "text/x-python",
   "name": "python",
   "nbconvert_exporter": "python",
   "pygments_lexer": "ipython3",
   "version": "3.12.7"
  }
 },
 "nbformat": 4,
 "nbformat_minor": 5
}
